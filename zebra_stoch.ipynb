{
 "cells": [
  {
   "cell_type": "code",
   "execution_count": 885,
   "metadata": {},
   "outputs": [],
   "source": [
    "import numpy as np\n",
    "import matplotlib.pyplot as plt\n",
    "from scipy.stats import norm\n",
    "from math import sqrt\n",
    "import time \n",
    "import numpy as np\n",
    "import matplotlib.animation as animation\n",
    "%matplotlib qt\n",
    "import pprint\n"
   ]
  },
  {
   "cell_type": "code",
   "execution_count": 886,
   "metadata": {},
   "outputs": [],
   "source": [
    "N_t = 200\n",
    "N_c = 200\n",
    "\n",
    "w = np.zeros((N_c, N_t+1))\n",
    "\n",
    "u = np.full_like(w, 1.0) # for now computing only one realization of the stochastic process\n",
    "\n",
    "\n",
    "#readout_w_at_u_0 = ?\n",
    "\n",
    "def show_animated_figure(u, cell_i = cell_i):\n",
    "    fig = plt.figure()\n",
    "    ylim_min = np.amin(u)\n",
    "    ylim_max = np.amax(u)\n",
    "    ax = plt.axes(xlim=(0, 210), ylim=(ylim_min, 2*ylim_max))\n",
    "    fig.tight_layout()\n",
    "    line, = ax.plot([], [], color='k', lw=2)\n",
    "\n",
    "    def update(num, u, line):\n",
    "        line.set_data(cell_i, u[:, num])\n",
    "        return line,\n",
    "\n",
    "    ani = animation.FuncAnimation(fig, update, N_t+1, fargs=[u, line],\n",
    "                                  interval=25, blit=True)\n",
    "    plt.show()\n",
    "    \n",
    "def save_animation(filename, animation_object):# supported format is mp4\n",
    "    Writer = animation.writers['ffmpeg']\n",
    "    writer = Writer(fps=15, metadata=dict(artist='Me'), bitrate=1800)\n",
    "    animation_object.save(filename, writer=writer)\n",
    "\n",
    "def comp_heaviside(cell_index, del_x, v_0, t):\n",
    "    if (cell_index*del_x - v_0*t > 0):\n",
    "        return 1\n",
    "    else:\n",
    "        return 0\n",
    "    \n",
    "def return_heaviside_matrix(N_c, N_t, del_x, v_0, dt):\n",
    "    heaviside = np.zeros((N_c, N_t+1))\n",
    "    for i in range (N_c):\n",
    "        for j in range(N_t+1):\n",
    "            heaviside[i][j] = int((i*del_x - v_0 * j* dt) > 0)\n",
    "            #print (i*del_x - v_0 * j* dt)\n",
    "    return heaviside\n",
    "    \n",
    "u0 = u[:, 0]\n",
    "u0 = np.asarray(u0)\n",
    "r_u = norm.rvs(size=u0.shape + (N_t,), scale=sigma**2)\n",
    "r_w = norm.rvs(size=u0.shape + (N_t,), scale=sigma**2)\n",
    "\n"
   ]
  },
  {
   "cell_type": "markdown",
   "metadata": {},
   "source": [
    "#### Get travelling heaviside function first"
   ]
  },
  {
   "cell_type": "code",
   "execution_count": 887,
   "metadata": {},
   "outputs": [],
   "source": [
    "time_ = np.asarray([i for i in range(0, N_t)])\n",
    "cell_i= np.asarray([i for i in range(0,N_c)])\n"
   ]
  },
  {
   "cell_type": "code",
   "execution_count": 888,
   "metadata": {},
   "outputs": [],
   "source": [
    "tau_u =7 #min \n",
    "P_u = 1/tau_u# min^-1\n",
    "v_0 = 2.55 # cdmin^-1\n",
    "dt = tau_u/10\n",
    "\n",
    "del_x = 1.5 #cd\n",
    "\n",
    "tau_w = 20 # min\n",
    "K_u = 5 \n",
    "K_w = 1 \n",
    "beta = 1e-250\n",
    "sigma = 0.036**2 \n",
    "P_w = 1/tau_w\n",
    "n = 4\n",
    "m =5\n",
    "\n"
   ]
  },
  {
   "cell_type": "code",
   "execution_count": 889,
   "metadata": {},
   "outputs": [],
   "source": [
    "heaviside = return_heaviside_matrix(N_c, N_t-1, del_x, v_0, dt)"
   ]
  },
  {
   "cell_type": "code",
   "execution_count": 890,
   "metadata": {},
   "outputs": [
    {
     "data": {
      "text/plain": [
       "'for i in range(1, N_t+1): ## for every time step update all cells \\n    u[:, i] = u[:, i-1]*(1-1/tau_u)*dt + P_u*(np.heaviside(cell_i, v_0*time_))*dt #+ sqrt(dt)*r_u[:, i-1]\\n    if (i+1 <= N_t):\\n        if (i-tau_w < 0):\\n            w[:, i] = w[:, i-1]*(1 - 1/tau_w) + P_w*(u[:, i]**n/(K_u**n + u[:, i]**n))+beta*(w[:, i-1] + w[:, i+1]) + sqrt(dt)*r_w[:, i-1]\\n        else:\\n            w[:, i] = w[:, i-1]*(1 - 1/tau_w) + P_w*(u[:, i]**n/(K_u**n + u[:, i]**n))*(K_w**m/(K_w**m + w[:, i-tau_w]**m))+beta*(w[:, i-1] + w[:, i+1]) + sqrt(dt)*r_w[:, i-1]\\n\\n    else:\\n        w[:, i] = w[:, i-1]*(1 - 1/tau_w) +  P_w*(u[:, i]**n/(K_u**n + u[:, i]**n))*(K_w**m/(K_w**m + w[:, i-tau_w]**m))+beta*(w[:, i-1]) + sqrt(dt)*r_w[:, i-1]\\n'"
      ]
     },
     "execution_count": 890,
     "metadata": {},
     "output_type": "execute_result"
    }
   ],
   "source": [
    "\"\"\"for i in range(1, N_t+1): ## for every time step update all cells \n",
    "    u[:, i] = u[:, i-1]*(1-1/tau_u)*dt + P_u*(np.heaviside(cell_i, v_0*time_))*dt #+ sqrt(dt)*r_u[:, i-1]\n",
    "    if (i+1 <= N_t):\n",
    "        if (i-tau_w < 0):\n",
    "            w[:, i] = w[:, i-1]*(1 - 1/tau_w) + P_w*(u[:, i]**n/(K_u**n + u[:, i]**n))+beta*(w[:, i-1] + w[:, i+1]) + sqrt(dt)*r_w[:, i-1]\n",
    "        else:\n",
    "            w[:, i] = w[:, i-1]*(1 - 1/tau_w) + P_w*(u[:, i]**n/(K_u**n + u[:, i]**n))*(K_w**m/(K_w**m + w[:, i-tau_w]**m))+beta*(w[:, i-1] + w[:, i+1]) + sqrt(dt)*r_w[:, i-1]\n",
    "\n",
    "    else:\n",
    "        w[:, i] = w[:, i-1]*(1 - 1/tau_w) +  P_w*(u[:, i]**n/(K_u**n + u[:, i]**n))*(K_w**m/(K_w**m + w[:, i-tau_w]**m))+beta*(w[:, i-1]) + sqrt(dt)*r_w[:, i-1]\n",
    "\"\"\""
   ]
  },
  {
   "cell_type": "code",
   "execution_count": 891,
   "metadata": {},
   "outputs": [],
   "source": [
    "time_ = np.asarray([i*dt for i in range(0, N_t)])\n",
    "cell_i= np.asarray([[i*del_x for j in range(0, N_t)] for i in range(0,N_c)])"
   ]
  },
  {
   "cell_type": "code",
   "execution_count": 892,
   "metadata": {},
   "outputs": [
    {
     "data": {
      "text/plain": [
       "(200, 200)"
      ]
     },
     "execution_count": 892,
     "metadata": {},
     "output_type": "execute_result"
    }
   ],
   "source": [
    "cell_i.shape"
   ]
  },
  {
   "cell_type": "code",
   "execution_count": 906,
   "metadata": {},
   "outputs": [],
   "source": [
    "for i in range(1, N_t): \n",
    "    u[:, i] = (u[:,i-1] + P_u*(np.heaviside(cell_i[:, i], time_))*dt)/(1+dt/tau_u)"
   ]
  },
  {
   "cell_type": "code",
   "execution_count": 908,
   "metadata": {},
   "outputs": [
    {
     "data": {
      "text/plain": [
       "array([[1.00000000e+00, 9.09090909e-01, 8.26446281e-01, ...,\n",
       "        6.37159758e-09, 5.79236144e-09, 1.00000000e+00],\n",
       "       [1.00000000e+00, 1.00000000e+00, 1.00000000e+00, ...,\n",
       "        1.00000000e+00, 1.00000000e+00, 1.00000000e+00],\n",
       "       [1.00000000e+00, 1.00000000e+00, 1.00000000e+00, ...,\n",
       "        1.00000000e+00, 1.00000000e+00, 1.00000000e+00],\n",
       "       ...,\n",
       "       [1.00000000e+00, 1.00000000e+00, 1.00000000e+00, ...,\n",
       "        1.00000000e+00, 1.00000000e+00, 1.00000000e+00],\n",
       "       [1.00000000e+00, 1.00000000e+00, 1.00000000e+00, ...,\n",
       "        1.00000000e+00, 1.00000000e+00, 1.00000000e+00],\n",
       "       [1.00000000e+00, 1.00000000e+00, 1.00000000e+00, ...,\n",
       "        1.00000000e+00, 1.00000000e+00, 1.00000000e+00]])"
      ]
     },
     "execution_count": 908,
     "metadata": {},
     "output_type": "execute_result"
    }
   ],
   "source": [
    "u"
   ]
  },
  {
   "cell_type": "code",
   "execution_count": 909,
   "metadata": {},
   "outputs": [],
   "source": [
    "fig = plt.figure()\n",
    "\n",
    "ax = plt.axes(xlim=(0, 200), ylim=(-0.5*np.amin(u),2))\n",
    "ax.set_ylabel(\"u\")\n",
    "ax.set_xlabel(\"cell_index_i\")\n",
    "fig.tight_layout()\n",
    "line, = ax.plot([], [], color='steelblue', lw=2)\n",
    "\n",
    "def update(num, u, line):\n",
    "    line.set_data(time_, u[:, num])\n",
    "    return line,\n",
    "\n",
    "ani = animation.FuncAnimation(fig, update, N_t+1, fargs=[u, line],\n",
    "                              interval=40, blit=True)\n",
    "plt.show()"
   ]
  },
  {
   "cell_type": "code",
   "execution_count": 823,
   "metadata": {},
   "outputs": [],
   "source": [
    "save_animation(\"u.mp4\", ani)"
   ]
  },
  {
   "cell_type": "code",
   "execution_count": 319,
   "metadata": {},
   "outputs": [
    {
     "data": {
      "text/plain": [
       "[<matplotlib.lines.Line2D at 0x1a260a2550>]"
      ]
     },
     "execution_count": 319,
     "metadata": {},
     "output_type": "execute_result"
    }
   ],
   "source": [
    "plt.plot(time_, u[0, :])"
   ]
  },
  {
   "cell_type": "code",
   "execution_count": 64,
   "metadata": {},
   "outputs": [],
   "source": []
  },
  {
   "cell_type": "code",
   "execution_count": null,
   "metadata": {
    "scrolled": true
   },
   "outputs": [],
   "source": []
  },
  {
   "cell_type": "code",
   "execution_count": 65,
   "metadata": {},
   "outputs": [
    {
     "data": {
      "text/plain": [
       "'for i in range(1, N+1): ## for every time step update all cells \\n    u[:, i] = u[:, i-1]*(1 - 1/tau_u) + P_u*(1 - heaviside(i, del_x, v_0, i*dt)) + sqrt(dt)*r_u[:, i-1]\\n    if (i+1 <= N):\\n        w[:, i] = w[:, i-1]*(1 - 1/tau_w) + P_w*(u[:, i]**n/(K_u**n + u[:, i]**n))*(K_w**m/(K_w**m + w[:, i-tau_w]**m))\\n    \\n        +beta*(w[:, i-1] + w[:, i+1]) + sqrt(dt)*r_w[:, i-1]\\n    else:\\n        w[:, i] = w[:, i-1]*(1 - 1/tau_w) + P_w*(u[:, i]**n/(K_u**n + u[:, i]**n))*(K_w**m/(K_w**m + w[:, i-tau_w]**m))\\n    \\n        +beta*(w[:, i-1]) + sqrt(dt)*r_w[:, i-1]'"
      ]
     },
     "execution_count": 65,
     "metadata": {},
     "output_type": "execute_result"
    }
   ],
   "source": [
    "\"\"\"for i in range(1, N+1): ## for every time step update all cells \n",
    "    u[:, i] = u[:, i-1]*(1 - 1/tau_u) + P_u*(1 - heaviside(i, del_x, v_0, i*dt)) + sqrt(dt)*r_u[:, i-1]\n",
    "    if (i+1 <= N):\n",
    "        w[:, i] = w[:, i-1]*(1 - 1/tau_w) + P_w*(u[:, i]**n/(K_u**n + u[:, i]**n))*(K_w**m/(K_w**m + w[:, i-tau_w]**m))\n",
    "    \n",
    "        +beta*(w[:, i-1] + w[:, i+1]) + sqrt(dt)*r_w[:, i-1]\n",
    "    else:\n",
    "        w[:, i] = w[:, i-1]*(1 - 1/tau_w) + P_w*(u[:, i]**n/(K_u**n + u[:, i]**n))*(K_w**m/(K_w**m + w[:, i-tau_w]**m))\n",
    "    \n",
    "        +beta*(w[:, i-1]) + sqrt(dt)*r_w[:, i-1]\"\"\""
   ]
  },
  {
   "cell_type": "code",
   "execution_count": null,
   "metadata": {},
   "outputs": [],
   "source": []
  },
  {
   "cell_type": "code",
   "execution_count": null,
   "metadata": {},
   "outputs": [],
   "source": []
  },
  {
   "cell_type": "code",
   "execution_count": 71,
   "metadata": {},
   "outputs": [
    {
     "data": {
      "text/plain": [
       "(200, 101)"
      ]
     },
     "execution_count": 71,
     "metadata": {},
     "output_type": "execute_result"
    }
   ],
   "source": [
    "heaviside.shape"
   ]
  },
  {
   "cell_type": "code",
   "execution_count": 66,
   "metadata": {},
   "outputs": [
    {
     "name": "stdout",
     "output_type": "stream",
     "text": [
      "0.0 0.9999997980141082\n"
     ]
    }
   ],
   "source": [
    "print (np.amin(u), np.amax(u))"
   ]
  },
  {
   "cell_type": "code",
   "execution_count": 74,
   "metadata": {},
   "outputs": [],
   "source": []
  },
  {
   "cell_type": "code",
   "execution_count": null,
   "metadata": {},
   "outputs": [],
   "source": []
  },
  {
   "cell_type": "code",
   "execution_count": null,
   "metadata": {},
   "outputs": [],
   "source": []
  },
  {
   "cell_type": "code",
   "execution_count": 231,
   "metadata": {},
   "outputs": [],
   "source": []
  },
  {
   "cell_type": "code",
   "execution_count": null,
   "metadata": {},
   "outputs": [],
   "source": []
  }
 ],
 "metadata": {
  "kernelspec": {
   "display_name": "Python 3",
   "language": "python",
   "name": "python3"
  },
  "language_info": {
   "codemirror_mode": {
    "name": "ipython",
    "version": 3
   },
   "file_extension": ".py",
   "mimetype": "text/x-python",
   "name": "python",
   "nbconvert_exporter": "python",
   "pygments_lexer": "ipython3",
   "version": "3.7.1"
  }
 },
 "nbformat": 4,
 "nbformat_minor": 2
}
