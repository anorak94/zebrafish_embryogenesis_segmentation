{
 "cells": [
  {
   "cell_type": "code",
   "execution_count": 42,
   "metadata": {},
   "outputs": [],
   "source": [
    "import numpy as np\n",
    "import matplotlib.pyplot as plt\n",
    "from scipy.stats import norm\n",
    "from math import sqrt\n",
    "import time \n",
    "import numpy as np\n",
    "import matplotlib.animation as animation\n",
    "%matplotlib qt\n",
    "import pprint\n",
    "import math\n",
    "from sklearn.metrics import mean_squared_error\n",
    "import scipy.optimize as optimize\n",
    "import scipy.io as sio"
   ]
  },
  {
   "cell_type": "code",
   "execution_count": 88,
   "metadata": {},
   "outputs": [],
   "source": [
    "n_t = 200\n",
    "dt = 0.05\n",
    "gamma1 = 3.8\n",
    "n = 8\n",
    "m = 8\n",
    "tau_2 = 5\n",
    "k = 5\n",
    "gamma2 = 1\n",
    "n_c = 10\n",
    "dx = 1.5\n",
    "v_0 = 1.5\n",
    "tau_d = 7"
   ]
  },
  {
   "cell_type": "code",
   "execution_count": 155,
   "metadata": {},
   "outputs": [],
   "source": [
    "u = np.ones((n_t))\n",
    "ha = np.zeros((n_t))\n",
    "\n",
    "w = np.zeros(( n_t))\n",
    "cell_pos = 5\n",
    "t = np.asarray([i*dt for i in range(n_t)])\n",
    "x_ = np.asarray([i*dx for i in range(n_c)])"
   ]
  },
  {
   "cell_type": "code",
   "execution_count": 90,
   "metadata": {},
   "outputs": [],
   "source": [
    "ha2d = np.ones((n_c, n_t))\n",
    "for i in range(n_t):\n",
    "    for j in range(n_c):\n",
    "        ha2d[j][i] = int((j*dx - v_0*i*dt)>0)"
   ]
  },
  {
   "cell_type": "code",
   "execution_count": 156,
   "metadata": {},
   "outputs": [],
   "source": [
    "for i in range(n_t):\n",
    "    ha[i] = int((cell_pos - v_0*i*dt)>0)"
   ]
  },
  {
   "cell_type": "code",
   "execution_count": 152,
   "metadata": {},
   "outputs": [
    {
     "data": {
      "text/plain": [
       "[<matplotlib.lines.Line2D at 0x1a5109b5f8>]"
      ]
     },
     "execution_count": 152,
     "metadata": {},
     "output_type": "execute_result"
    }
   ],
   "source": [
    "plt.plot(t, u2d[8, :])"
   ]
  },
  {
   "cell_type": "code",
   "execution_count": 157,
   "metadata": {},
   "outputs": [],
   "source": [
    "for i in range (n_t-1):\n",
    "    u[i+1] = u[i] + 1/(tau_2)*dt*(-u[i] + ha[i])\n",
    "    if (i - tau_d >= 0):\n",
    "        w[i+1] = w[i] + dt*(-w[i] + gamma1*(u[i]**n/(u[i]**n+1))*(1/(1+w[i-tau_d]**m))    )\n",
    "    else:\n",
    "        w[i+1] = w[i] + dt*(-w[i] + gamma1*(u[i]**n/(u[i]**n+1))*(1)    )"
   ]
  },
  {
   "cell_type": "code",
   "execution_count": 170,
   "metadata": {},
   "outputs": [
    {
     "data": {
      "text/plain": [
       "[<matplotlib.lines.Line2D at 0x1a313f8860>]"
      ]
     },
     "execution_count": 170,
     "metadata": {},
     "output_type": "execute_result"
    }
   ],
   "source": [
    "plt.plot(t, w2d[7, :])"
   ]
  },
  {
   "cell_type": "code",
   "execution_count": 166,
   "metadata": {},
   "outputs": [],
   "source": [
    "u2d = np.ones((n_c, n_t))\n",
    "w2d = np.zeros((n_c, n_t))\n",
    "beta = 1"
   ]
  },
  {
   "cell_type": "code",
   "execution_count": 167,
   "metadata": {},
   "outputs": [],
   "source": [
    "for i in range(n_t-1):\n",
    "    for cell in range(1, n_c-1):\n",
    "        u2d[cell][i+1] = u2d[cell][i] + (1/tau_2)*dt*(-u2d[cell][i] + ha2d[cell][i])\n",
    "        c = beta*(w2d[cell-1][i]+w2d[cell+1][i])\n",
    "        if (i - tau_d >= 0):\n",
    "            w2d[cell][i+1] = w2d[cell][i] + dt*(-w2d[cell][i] + gamma1*(u2d[cell][i]**n/(u2d[cell][i]**n+1))*(1/(1+w2d[cell][i-tau_d]**m))   )\n",
    "        else:\n",
    "            w2d[cell][i+1] = w2d[cell][i] + dt*(-w2d[cell][i] + gamma1*(u2d[cell][i]**n/(u2d[cell][i]**n+1))*(1) )\n",
    "        "
   ]
  },
  {
   "cell_type": "code",
   "execution_count": 144,
   "metadata": {},
   "outputs": [],
   "source": [
    "for i in range (n_t):\n",
    "    \"\"\"if (i == 40):\n",
    "        break\"\"\"\n",
    "    plt.plot(x_, w2d[:, i], label=i)\n",
    "    plt.legend(loc='lower left', bbox_to_anchor=(1.02, 0), borderaxespad=0)"
   ]
  },
  {
   "cell_type": "code",
   "execution_count": 171,
   "metadata": {},
   "outputs": [],
   "source": [
    "def save_animation(filename, animation_object):# supported format is mp4\n",
    "    Writer = animation.writers['ffmpeg']\n",
    "    writer = Writer(fps=15, metadata=dict(artist='Me'), bitrate=1800)\n",
    "    animation_object.save(filename, writer=writer)\n",
    "\n",
    "fig = plt.figure()\n",
    "ax = plt.axes(xlim=(0, 2*x_[-1]), ylim=(np.amin(w2d),2))\n",
    "ax.set_ylabel(\"w\")\n",
    "ax.set_xlabel(\"cell_index_i\")\n",
    "fig.tight_layout()\n",
    "line, = ax.plot([], [], color='steelblue', lw=2)\n",
    "\n",
    "def update(num, u, line):\n",
    "    line.set_data(x_, u[:, num])\n",
    "    return line,\n",
    "\n",
    "ani = animation.FuncAnimation(fig, update, n_c, fargs=[ w2d, line],\n",
    "                              interval=4, blit=True)\n",
    "plt.show()"
   ]
  },
  {
   "cell_type": "code",
   "execution_count": 126,
   "metadata": {},
   "outputs": [
    {
     "data": {
      "text/plain": [
       "(10, 200)"
      ]
     },
     "execution_count": 126,
     "metadata": {},
     "output_type": "execute_result"
    }
   ],
   "source": [
    "w2d.shape"
   ]
  },
  {
   "cell_type": "code",
   "execution_count": null,
   "metadata": {},
   "outputs": [],
   "source": []
  }
 ],
 "metadata": {
  "kernelspec": {
   "display_name": "Python 3",
   "language": "python",
   "name": "python3"
  },
  "language_info": {
   "codemirror_mode": {
    "name": "ipython",
    "version": 3
   },
   "file_extension": ".py",
   "mimetype": "text/x-python",
   "name": "python",
   "nbconvert_exporter": "python",
   "pygments_lexer": "ipython3",
   "version": "3.7.1"
  }
 },
 "nbformat": 4,
 "nbformat_minor": 2
}
