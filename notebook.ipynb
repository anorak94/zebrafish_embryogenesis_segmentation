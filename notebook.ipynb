{
 "cells": [
  {
   "cell_type": "markdown",
   "metadata": {},
   "source": [
    "### Analysing the effect of noise on the quality of the signal W"
   ]
  },
  {
   "cell_type": "markdown",
   "metadata": {},
   "source": [
    "#### QF factor"
   ]
  },
  {
   "cell_type": "markdown",
   "metadata": {},
   "source": [
    "A common way to analyse a time series signal upon addition of noise is the QF of the signal. However QF is defined for large samples. In our case the signal has finite length. I calculate the QF of the signal W for cell index 30 at various levels of noise in the simulation. QF is calculated by taking the value of the frequency at which the maximum power is observed(red line) and then computing the power 3db below that and noting the frequency at which that happens. QF = (f_max/2*(f_max-freq_3))"
   ]
  },
  {
   "cell_type": "markdown",
   "metadata": {},
   "source": [
    "![](qf_calc_w_single_cell.png)"
   ]
  },
  {
   "cell_type": "markdown",
   "metadata": {},
   "source": [
    "![](qf_w.png)"
   ]
  },
  {
   "cell_type": "markdown",
   "metadata": {},
   "source": [
    "This is the QF plot of W with noise, we expect the QF to decay with the added noise however this doesnt happen there is also a lot of stochasticity in the QF vs noise plot. One reason could be that the QF is defined for large(infinite) time series, in our case, the time series is small (only 4000 samples) and even then after a certain point most of the entries are zeros. This what a sample W at cell index 30 looks like \n",
    "\n",
    "![](download.png)"
   ]
  },
  {
   "cell_type": "markdown",
   "metadata": {},
   "source": [
    "#### Wavelet Analysis "
   ]
  },
  {
   "cell_type": "markdown",
   "metadata": {},
   "source": [
    "Another approach that is used for analysing finite time series is wavelet analysis. I plot the scaleogram for W at cell index 30. The plot shows that most power is concentrated at te beginning of the signal as we can see from the plot of W above. But the plot doesnt give us information about how the signal degrades with noise, because even the scaleogram of a GWN will have some features, to this end i include a significance test for the wavelet power spectrum, the null hypothesis is that the wavelet power value is only caused by randomness (i.e. a GWN). For a morlet wavelet the wavelet power value is distributed as $\\chi^2_2 $ distribution. I choose the value of $ p = 0.1$ for the significance value."
   ]
  },
  {
   "cell_type": "markdown",
   "metadata": {},
   "source": [
    "scaleogram no noise at cell index 30 for W"
   ]
  },
  {
   "cell_type": "markdown",
   "metadata": {},
   "source": [
    "![scaleogram_no_noise](scaleogram_no_noise.png)"
   ]
  },
  {
   "cell_type": "markdown",
   "metadata": {},
   "source": [
    "scaleogram noise=0.8 at cell index 30 for W"
   ]
  },
  {
   "cell_type": "markdown",
   "metadata": {},
   "source": [
    "![scaleogram_noise](scaleogram_noisy.png)"
   ]
  },
  {
   "cell_type": "markdown",
   "metadata": {},
   "source": [
    "Although we see most of the power is concentrated in the beginning there are still some features that can be seen at later times which are missing from the non noisy scaleogram. To distinguish them i carry out the significance test on the wavelet power density. Since the dimension of the scaleogram is len(scales) x len(time). I take the most significant scale at each noise level and plot that with noise. Multiple realizations are carried out at each noise level to provide a robust estimate of the most significant scale. Below is the plot of the p value at most significant scale for each noise level. "
   ]
  },
  {
   "cell_type": "markdown",
   "metadata": {},
   "source": [
    "![sig_plot](sig_plot.png)"
   ]
  },
  {
   "cell_type": "markdown",
   "metadata": {},
   "source": [
    "As expected we see that the pvalue increases as we increase the noise added to the simulations beyond the noise 0.7 the wavelet power is indistinguishable from the wavelet power for a GWN process. It is worth noting that the somite size distribution deteriorates much before the noise increases to 0.7 "
   ]
  },
  {
   "cell_type": "markdown",
   "metadata": {},
   "source": [
    "### Somite Size distribution "
   ]
  },
  {
   "cell_type": "markdown",
   "metadata": {},
   "source": [
    "I next investigate how the distribution of the somite size changes as we increase the noise level. Again multiple realizations of the simulation(30) are carried out at each noise level(no of cells in each realization  = 100) to provide robust estimate. I conduct a normal test to verify that somite sizes are distributed normally for each realizations "
   ]
  },
  {
   "cell_type": "markdown",
   "metadata": {},
   "source": [
    "![mu_std](mu_std.png)"
   ]
  },
  {
   "cell_type": "markdown",
   "metadata": {},
   "source": [
    "We see that the mean sizes of the somites goes down as noise is increased while the variance of the somite size distribution goes up upon increasing the noise "
   ]
  },
  {
   "cell_type": "markdown",
   "metadata": {},
   "source": [
    "### Interpeak distance of w as noise is increased "
   ]
  },
  {
   "cell_type": "markdown",
   "metadata": {},
   "source": [
    "From the paper we know that the interpeak distance is distributed normally. I plot the mean of the interpeak distance as noise is increased  "
   ]
  },
  {
   "cell_type": "markdown",
   "metadata": {},
   "source": [
    "![mu_interpeak](mu_interpeak.png)"
   ]
  },
  {
   "cell_type": "markdown",
   "metadata": {},
   "source": [
    "### Effect of delay in feedback on the somite size distribution "
   ]
  },
  {
   "cell_type": "markdown",
   "metadata": {},
   "source": [
    "In the simulations we have a parameter tau_d which is the time interval with which w starts inhibiting itself. I investigate the role of the time delay on the average somite sizes "
   ]
  },
  {
   "cell_type": "markdown",
   "metadata": {},
   "source": [
    "![delay](delay.png)"
   ]
  },
  {
   "cell_type": "markdown",
   "metadata": {},
   "source": [
    "We see that the average somite size increases with increasing the time delay. Also in the plots above we see that increasing the noise has the effect of reducing the mean size of the somites. So it makes sense to explore whether increasing the time delay in high noise simulations can save the somite sizes from going down "
   ]
  },
  {
   "cell_type": "markdown",
   "metadata": {},
   "source": [
    "I carry out 50 realizations of the simulations under 3 different settings\n",
    "* no noise and time delay = 14\n",
    "* n"
   ]
  },
  {
   "cell_type": "markdown",
   "metadata": {},
   "source": []
  }
 ],
 "metadata": {
  "kernelspec": {
   "display_name": "Python 3",
   "language": "python",
   "name": "python3"
  },
  "language_info": {
   "codemirror_mode": {
    "name": "ipython",
    "version": 3
   },
   "file_extension": ".py",
   "mimetype": "text/x-python",
   "name": "python",
   "nbconvert_exporter": "python",
   "pygments_lexer": "ipython3",
   "version": "3.7.3"
  }
 },
 "nbformat": 4,
 "nbformat_minor": 2
}
